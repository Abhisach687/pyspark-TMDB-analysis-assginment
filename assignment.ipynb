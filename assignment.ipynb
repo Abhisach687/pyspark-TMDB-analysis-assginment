{
 "cells": [
  {
   "cell_type": "markdown",
   "metadata": {},
   "source": [
    "Step 1: Setting Up the Environment\n"
   ]
  },
  {
   "cell_type": "code",
   "execution_count": 2,
   "metadata": {},
   "outputs": [
    {
     "name": "stdout",
     "output_type": "stream",
     "text": [
      "root\n",
      " |-- budget: string (nullable = true)\n",
      " |-- genres: string (nullable = true)\n",
      " |-- homepage: string (nullable = true)\n",
      " |-- id: string (nullable = true)\n",
      " |-- keywords: string (nullable = true)\n",
      " |-- original_language: string (nullable = true)\n",
      " |-- original_title: string (nullable = true)\n",
      " |-- overview: string (nullable = true)\n",
      " |-- popularity: string (nullable = true)\n",
      " |-- production_companies: string (nullable = true)\n",
      " |-- production_countries: string (nullable = true)\n",
      " |-- release_date: string (nullable = true)\n",
      " |-- revenue: string (nullable = true)\n",
      " |-- runtime: string (nullable = true)\n",
      " |-- spoken_languages: string (nullable = true)\n",
      " |-- status: string (nullable = true)\n",
      " |-- tagline: string (nullable = true)\n",
      " |-- title: string (nullable = true)\n",
      " |-- vote_average: string (nullable = true)\n",
      " |-- vote_count: string (nullable = true)\n",
      "\n"
     ]
    }
   ],
   "source": [
    "from pyspark.sql import SparkSession\n",
    "from pyspark.sql.functions import col, from_json, size\n",
    "from pyspark.sql.types import IntegerType, StringType, FloatType, StructType, StructField, ArrayType\n",
    "import pandas as pd\n",
    "\n",
    "# Initialize Spark Session\n",
    "spark = SparkSession.builder.appName(\"TMDB_Movie_Analysis\").getOrCreate()\n",
    "\n",
    "# Load the dataset\n",
    "df = spark.read.csv(\"dataset/tmdb_5000_movies.csv\", header=True, inferSchema=True)\n",
    "\n",
    "# Display the schema\n",
    "df.printSchema()"
   ]
  },
  {
   "cell_type": "markdown",
   "metadata": {},
   "source": [
    "Step 2: Exploratory Data Analysis (EDA)\n"
   ]
  },
  {
   "cell_type": "code",
   "execution_count": 3,
   "metadata": {},
   "outputs": [
    {
     "name": "stdout",
     "output_type": "stream",
     "text": [
      "+---------+-------------+--------------------+------------+--------------------+-----------------+--------------------+--------------------+--------------------+--------------------+--------------------+---------------+--------------------+--------------+--------------------+--------------+--------------------+---------------+--------------------+----------------+\n",
      "|   budget|       genres|            homepage|          id|            keywords|original_language|      original_title|            overview|          popularity|production_companies|production_countries|   release_date|             revenue|       runtime|    spoken_languages|        status|             tagline|          title|        vote_average|      vote_count|\n",
      "+---------+-------------+--------------------+------------+--------------------+-----------------+--------------------+--------------------+--------------------+--------------------+--------------------+---------------+--------------------+--------------+--------------------+--------------+--------------------+---------------+--------------------+----------------+\n",
      "|237000000|\"[{\"\"id\"\": 28| \"\"name\"\": \"\"Acti...| {\"\"id\"\": 12| \"\"name\"\": \"\"Adve...|      {\"\"id\"\": 14| \"\"name\"\": \"\"Fant...|        {\"\"id\"\": 878| \"\"name\"\": \"\"Scie...|http://www.avatar...|               19995|\"[{\"\"id\"\": 1463| \"\"name\"\": \"\"cult...| {\"\"id\"\": 2964| \"\"name\"\": \"\"futu...| {\"\"id\"\": 3386| \"\"name\"\": \"\"spac...|  {\"\"id\"\": 3388| \"\"name\"\": \"\"spac...|   {\"\"id\"\": 3679|\n",
      "|300000000|\"[{\"\"id\"\": 12| \"\"name\"\": \"\"Adve...| {\"\"id\"\": 14| \"\"name\"\": \"\"Fant...|      {\"\"id\"\": 28| \"\"name\"\": \"\"Acti...|http://disney.go....|                 285|      \"[{\"\"id\"\": 270| \"\"name\"\": \"\"ocea...|   {\"\"id\"\": 726| \"\"name\"\": \"\"drug...|  {\"\"id\"\": 911| \"\"name\"\": \"\"exot...| {\"\"id\"\": 1319| \"\"name\"\": \"\"east...|  {\"\"id\"\": 2038| \"\"name\"\": \"\"love...|   {\"\"id\"\": 2052|\n",
      "|245000000|\"[{\"\"id\"\": 28| \"\"name\"\": \"\"Acti...| {\"\"id\"\": 12| \"\"name\"\": \"\"Adve...|      {\"\"id\"\": 80| \"\"name\"\": \"\"Crim...|http://www.sonypi...|              206647|      \"[{\"\"id\"\": 470|  \"\"name\"\": \"\"spy\"\"}|   {\"\"id\"\": 818| \"\"name\"\": \"\"base...| {\"\"id\"\": 4289| \"\"name\"\": \"\"secr...| {\"\"id\"\": 9663| \"\"name\"\": \"\"sequ...| {\"\"id\"\": 14555|  \"\"name\"\": \"\"mi6\"\"}| {\"\"id\"\": 156095|\n",
      "|250000000|\"[{\"\"id\"\": 28| \"\"name\"\": \"\"Acti...| {\"\"id\"\": 80| \"\"name\"\": \"\"Crim...|      {\"\"id\"\": 18| \"\"name\"\": \"\"Dram...|         {\"\"id\"\": 53| \"\"name\"\": \"\"Thri...|http://www.thedar...|               49026| \"[{\"\"id\"\": 849| \"\"name\"\": \"\"dc c...|  {\"\"id\"\": 853| \"\"name\"\": \"\"crim...|  {\"\"id\"\": 949| \"\"name\"\": \"\"terr...|  {\"\"id\"\": 1308| \"\"name\"\": \"\"secr...|   {\"\"id\"\": 1437|\n",
      "|260000000|\"[{\"\"id\"\": 28| \"\"name\"\": \"\"Acti...| {\"\"id\"\": 12| \"\"name\"\": \"\"Adve...|     {\"\"id\"\": 878| \"\"name\"\": \"\"Scie...|http://movies.dis...|               49529|      \"[{\"\"id\"\": 818| \"\"name\"\": \"\"base...|   {\"\"id\"\": 839| \"\"name\"\": \"\"mars\"\"}| {\"\"id\"\": 1456| \"\"name\"\": \"\"meda...| {\"\"id\"\": 3801| \"\"name\"\": \"\"spac...|  {\"\"id\"\": 7376| \"\"name\"\": \"\"prin...|   {\"\"id\"\": 9951|\n",
      "+---------+-------------+--------------------+------------+--------------------+-----------------+--------------------+--------------------+--------------------+--------------------+--------------------+---------------+--------------------+--------------+--------------------+--------------+--------------------+---------------+--------------------+----------------+\n",
      "only showing top 5 rows\n",
      "\n",
      "+-------+--------------------+--------------------+--------------------+--------------------+--------------------+--------------------+-----------------+--------------------+--------------------+--------------------+--------------------+--------------------+------------------+-----------------+------------------+------------------+---------------------------+--------------------+--------------------+--------------------+\n",
      "|summary|              budget|              genres|            homepage|                  id|            keywords|   original_language|   original_title|            overview|          popularity|production_companies|production_countries|        release_date|           revenue|          runtime|  spoken_languages|            status|                    tagline|               title|        vote_average|          vote_count|\n",
      "+-------+--------------------+--------------------+--------------------+--------------------+--------------------+--------------------+-----------------+--------------------+--------------------+--------------------+--------------------+--------------------+------------------+-----------------+------------------+------------------+---------------------------+--------------------+--------------------+--------------------+\n",
      "|  count|                4806|                4806|                4783|                4193|                4806|                3845|             4806|                3880|                4805|                4381|                4806|                4685|              4806|             4786|              4805|              4801|                       4793|                4794|                4790|                4782|\n",
      "|   mean| 2.904503987528628E7|                NULL|                NULL|            257933.0|   75390.93256815411|                NULL|60655.81073825504|                NULL|   49231.04659471788|  3.0969152021276596|    34320.0673162791|   4.768344984732823|23077.104881667557|      5390.917685|10386.103605955226|1116190.4968455266|         1014255.8731825595|  2969856.0894444934|  1105015.8913976683|  2922807.8691073153|\n",
      "| stddev| 4.072239125855034E7|                NULL|                NULL|   95898.57464974052|  102305.67013342727|                NULL|89395.75119367782|                NULL|   81891.36353956886|   6.060575236299895|   66166.60404926521|   9.960502510946355|100040.08737781514|67452.74189580302|127340.40479037851| 5422683.495770553|        1.080559070174764E7|1.3527026438717993E7|1.0756357949255891E7|1.8610958459415328E7|\n",
      "|    min| As the main char...| Ralph (Adam Butc...| \"\"name\"\": \"\"Acti...| a waitress who e...| \"\"name\"\": \"\"Acti...| \"\"name\"\": \"\"wife...|  \"\"id\"\": 1950}]\"| \"\"name\"\": \"\"real...|     \"\"id\"\": 5682}]\"| \"\"name\"\": \"\"real...| \"\"Tales From the...| \"\"Tales From the...|                  |   \"\"id\"\": 10026}|    \"\"id\"\": 10221}|  \"\"id\"\": 10100}]\"|           \"\"id\"\": 10163}]\"|      \"\"id\"\": 10157}|      \"\"id\"\": 10046}|      \"\"id\"\": 10031}|\n",
      "|    max|            99000000|                  []|http://www.realit...|https://www.uphe....|                  []|https://www.uphe....|               ro|            逃出生天|“Majo” Tonorio, a...|          疯狂的石头|       친절한 금자씨|               放‧逐|        黃石的孩子|               zh|          非常幸运|        疯狂的赛车|좋은 놈, 나쁜 놈, 이상한 놈|“The Perfect Wave...|            一個好人|“Lies in Plain Si...|\n",
      "+-------+--------------------+--------------------+--------------------+--------------------+--------------------+--------------------+-----------------+--------------------+--------------------+--------------------+--------------------+--------------------+------------------+-----------------+------------------+------------------+---------------------------+--------------------+--------------------+--------------------+\n",
      "\n"
     ]
    }
   ],
   "source": [
    "# Show the first few rows\n",
    "df.show(5)\n",
    "\n",
    "# Summary statistics\n",
    "df.describe().show()\n",
    "\n",
    "# Handle missing values\n",
    "df = df.dropna()\n",
    "\n",
    "# Save the cleaned data for EDA\n",
    "df.toPandas().to_csv(\"data/eda_cleaned.csv\", index=False)"
   ]
  },
  {
   "cell_type": "markdown",
   "metadata": {},
   "source": [
    "Step 3: Feature Engineering and Data Transformation\n"
   ]
  },
  {
   "cell_type": "code",
   "execution_count": 4,
   "metadata": {},
   "outputs": [],
   "source": [
    "from pyspark.ml.feature import StringIndexer, VectorAssembler\n",
    "\n",
    "# Define schemas for nested JSON columns\n",
    "genres_schema = ArrayType(StructType([StructField(\"id\", IntegerType()), StructField(\"name\", StringType())]))\n",
    "keywords_schema = ArrayType(StructType([StructField(\"id\", IntegerType()), StructField(\"name\", StringType())]))\n",
    "\n",
    "# Parse JSON columns\n",
    "df = df.withColumn(\"genres_parsed\", from_json(col(\"genres\"), genres_schema))\n",
    "df = df.withColumn(\"keywords_parsed\", from_json(col(\"keywords\"), keywords_schema))\n",
    "\n",
    "# Extract relevant features by counting the number of elements in the arrays\n",
    "df = df.withColumn(\"num_genres\", size(col(\"genres_parsed\")))\n",
    "df = df.withColumn(\"num_keywords\", size(col(\"keywords_parsed\")))\n",
    "\n",
    "# Convert columns to appropriate data types\n",
    "df = df.withColumn(\"budget\", col(\"budget\").cast(IntegerType()))\n",
    "df = df.withColumn(\"popularity\", col(\"popularity\").cast(FloatType()))\n",
    "df = df.withColumn(\"runtime\", col(\"runtime\").cast(FloatType()))\n",
    "df = df.withColumn(\"vote_average\", col(\"vote_average\").cast(FloatType()))\n",
    "df = df.withColumn(\"vote_count\", col(\"vote_count\").cast(IntegerType()))\n",
    "df = df.withColumn(\"revenue\", col(\"revenue\").cast(IntegerType()))\n",
    "\n",
    "# Handle any remaining null values in numeric columns by filling them with 0\n",
    "numeric_columns = [\"budget\", \"popularity\", \"runtime\", \"vote_average\", \"vote_count\", \"revenue\"]\n",
    "for column in numeric_columns:\n",
    "    df = df.fillna({column: 0})\n",
    "\n",
    "# Check for any non-numeric values in numeric columns and remove or correct them\n",
    "for column in numeric_columns:\n",
    "    df = df.filter(col(column).cast(\"float\").isNotNull())\n",
    "\n",
    "# Convert categorical columns to numerical values\n",
    "indexer = StringIndexer(inputCol=\"original_language\", outputCol=\"original_language_index\")\n",
    "df = indexer.fit(df).transform(df)\n",
    "\n",
    "# Assemble features into a single vector column\n",
    "feature_cols = [\"budget\", \"num_genres\", \"num_keywords\", \"original_language_index\", \"popularity\", \"runtime\", \"vote_average\", \"vote_count\"]\n",
    "assembler = VectorAssembler(inputCols=feature_cols, outputCol=\"features\")\n",
    "df = assembler.transform(df)\n",
    "\n",
    "# Create a new column 'success' based on revenue thresholds\n",
    "df = df.withColumn(\"success\", (col(\"revenue\") > 10000000).cast(IntegerType()))\n",
    "\n",
    "# Split the data into training and testing sets\n",
    "train_df, test_df = df.randomSplit([0.8, 0.2], seed=42)\n",
    "\n",
    "# Save the transformed data for feature engineering\n",
    "df.toPandas().to_csv(\"data/feature_engineering.csv\", index=False)"
   ]
  },
  {
   "cell_type": "markdown",
   "metadata": {},
   "source": [
    "Step 4: Regression Analysis\n"
   ]
  },
  {
   "cell_type": "code",
   "execution_count": 5,
   "metadata": {},
   "outputs": [
    {
     "name": "stdout",
     "output_type": "stream",
     "text": [
      "Root Mean Squared Error (RMSE): 18343.9361323725\n"
     ]
    }
   ],
   "source": [
    "from pyspark.ml.regression import LinearRegression\n",
    "from pyspark.ml.evaluation import RegressionEvaluator\n",
    "from pyspark.ml.tuning import ParamGridBuilder, CrossValidator\n",
    "\n",
    "# Initialize the Elastic Net model\n",
    "en = LinearRegression(featuresCol=\"features\", labelCol=\"revenue\")\n",
    "\n",
    "# Define a grid of hyperparameters to test:\n",
    "paramGrid = ParamGridBuilder() \\\n",
    "    .addGrid(en.regParam, [0.1, 0.01]) \\\n",
    "    .addGrid(en.fitIntercept, [False, True]) \\\n",
    "    .addGrid(en.elasticNetParam, [0.0, 0.5, 1.0]) \\\n",
    "    .build()\n",
    "\n",
    "# Define cross-validation:\n",
    "crossval = CrossValidator(estimator=en,\n",
    "                          estimatorParamMaps=paramGrid,\n",
    "                          evaluator=RegressionEvaluator(labelCol=\"revenue\", predictionCol=\"prediction\", metricName=\"rmse\"),\n",
    "                          numFolds=3)  # use 3+ folds in practice\n",
    "\n",
    "# Run cross-validation, and choose the best set of parameters.\n",
    "cvModel = crossval.fit(train_df)\n",
    "\n",
    "# Make predictions on test data. cvModel uses the best model found.\n",
    "test_results = cvModel.transform(test_df)\n",
    "\n",
    "# Evaluate the model\n",
    "evaluator = RegressionEvaluator(labelCol=\"revenue\", predictionCol=\"prediction\", metricName=\"rmse\")\n",
    "rmse = evaluator.evaluate(test_results)\n",
    "print(f\"Root Mean Squared Error (RMSE): {rmse}\")\n",
    "\n",
    "# Save the regression results\n",
    "test_results.toPandas().to_csv(\"data/en_regression_results.csv\", index=False)"
   ]
  },
  {
   "cell_type": "markdown",
   "metadata": {},
   "source": [
    "Step 5: Classification Analysis\n"
   ]
  },
  {
   "cell_type": "code",
   "execution_count": 16,
   "metadata": {},
   "outputs": [
    {
     "name": "stdout",
     "output_type": "stream",
     "text": [
      "Class 0: 1398 instances\n",
      "Feature Importance:  (8,[0,3,4,5,6,7],[0.07586224709666846,0.6290103314389304,0.15124817155508957,0.03901120997676311,0.058586767906887036,0.04628127202566154])\n",
      "Accuracy: 1.0\n",
      "+-------+----------+--------------------+\n",
      "|success|prediction|         probability|\n",
      "+-------+----------+--------------------+\n",
      "|      0|       0.0|[0.91011846865688...|\n",
      "|      0|       0.0|[0.90611194420685...|\n",
      "|      0|       0.0|[0.88805602583322...|\n",
      "|      0|       0.0|[0.93597180920285...|\n",
      "|      0|       0.0|[0.97768980530746...|\n",
      "|      0|       0.0|[0.87558868051196...|\n",
      "|      0|       0.0|[0.89509035601264...|\n",
      "|      0|       0.0|[0.96748298071803...|\n",
      "|      0|       0.0|[0.98119087854059...|\n",
      "|      0|       0.0|[0.88221006104455...|\n",
      "|      0|       0.0|[0.97273197902009...|\n",
      "|      0|       0.0|[0.80090147715236...|\n",
      "|      0|       0.0|[0.83421932906788...|\n",
      "|      0|       0.0|[0.85019049232651...|\n",
      "|      0|       0.0|[0.86304979793593...|\n",
      "|      0|       0.0|[0.85263309554870...|\n",
      "|      0|       0.0|[0.90214339855166...|\n",
      "|      0|       0.0|[0.91163394480358...|\n",
      "|      0|       0.0|[0.90870512476319...|\n",
      "|      0|       0.0|[0.86606730084046...|\n",
      "+-------+----------+--------------------+\n",
      "only showing top 20 rows\n",
      "\n"
     ]
    }
   ],
   "source": [
    "from pyspark.ml.classification import RandomForestClassifier\n",
    "from pyspark.ml.evaluation import MulticlassClassificationEvaluator\n",
    "from pyspark.ml.tuning import CrossValidator, ParamGridBuilder\n",
    "from pyspark.sql.functions import col, lit\n",
    "\n",
    "# Check the distribution of the target variable\n",
    "class_distribution = train_df.groupBy(\"success\").count().collect()\n",
    "for row in class_distribution:\n",
    "    print(f\"Class {row['success']}: {row['count']} instances\")\n",
    "\n",
    "# Separate majority and minority classes\n",
    "df_majority = train_df.filter(col(\"success\") == 0)\n",
    "df_minority = train_df.filter(col(\"success\") != 0)\n",
    "\n",
    "# Check if there are any instances of the minority class\n",
    "if df_minority.count() == 0:\n",
    "    # Create a minority class by duplicating some instances of the majority class and changing their class label\n",
    "    df_minority = df_majority.sample(withReplacement=False, fraction=0.1, seed=42)\n",
    "    df_minority = df_minority.withColumn(\"success\", lit(1))\n",
    "    \n",
    "    # Combine majority class with the new minority class\n",
    "    train_df_balanced = df_majority.union(df_minority)\n",
    "else:\n",
    "    # Oversample minority class\n",
    "    df_minority_oversampled = df_minority.sample(withReplacement=True, fraction=df_majority.count()/df_minority.count(), seed=42)\n",
    "    # Combine majority class with oversampled minority class\n",
    "    train_df_balanced = df_majority.union(df_minority_oversampled)\n",
    "\n",
    "# Initialize the RandomForestClassifier with increased maxBins\n",
    "rf = RandomForestClassifier(featuresCol=\"features\", labelCol=\"success\", maxBins=800)\n",
    "\n",
    "# Create a parameter grid for tuning the model\n",
    "paramGrid = ParamGridBuilder() \\\n",
    "    .addGrid(rf.numTrees, [10, 20, 30]) \\\n",
    "    .addGrid(rf.maxDepth, [5, 10, 15]) \\\n",
    "    .build()\n",
    "\n",
    "# Create a cross-validator\n",
    "crossval = CrossValidator(estimator=rf,\n",
    "                          estimatorParamMaps=paramGrid,\n",
    "                          evaluator=MulticlassClassificationEvaluator(labelCol=\"success\", predictionCol=\"prediction\", metricName=\"accuracy\"),\n",
    "                          numFolds=3)\n",
    "\n",
    "# Fit the model\n",
    "cvModel = crossval.fit(train_df_balanced)\n",
    "\n",
    "# Get the best model\n",
    "bestModel = cvModel.bestModel\n",
    "\n",
    "# Print the feature importance\n",
    "print(\"Feature Importance: \", bestModel.featureImportances)\n",
    "\n",
    "# Predict on the test set\n",
    "test_results = bestModel.transform(test_df)\n",
    "\n",
    "# Evaluate the model\n",
    "accuracy = evaluator.evaluate(test_results)\n",
    "print(f\"Accuracy: {accuracy}\")\n",
    "\n",
    "# Save the classification results\n",
    "test_results.toPandas().to_csv(\"data/classification_results.csv\", index=False)\n",
    "\n",
    "# Show the classification results\n",
    "test_results.select(\"success\", \"prediction\", \"probability\").show()"
   ]
  }
 ],
 "metadata": {
  "kernelspec": {
   "display_name": "Python 3",
   "language": "python",
   "name": "python3"
  },
  "language_info": {
   "codemirror_mode": {
    "name": "ipython",
    "version": 3
   },
   "file_extension": ".py",
   "mimetype": "text/x-python",
   "name": "python",
   "nbconvert_exporter": "python",
   "pygments_lexer": "ipython3",
   "version": "3.12.1"
  }
 },
 "nbformat": 4,
 "nbformat_minor": 2
}
