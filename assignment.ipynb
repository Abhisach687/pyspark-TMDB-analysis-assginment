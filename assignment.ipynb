{
 "cells": [
  {
   "cell_type": "markdown",
   "metadata": {},
   "source": [
    "Step 1: Setup and Load Data\n"
   ]
  },
  {
   "cell_type": "code",
   "execution_count": 8,
   "metadata": {},
   "outputs": [
    {
     "name": "stdout",
     "output_type": "stream",
     "text": [
      "root\n",
      " |-- budget: string (nullable = true)\n",
      " |-- genres: string (nullable = true)\n",
      " |-- homepage: string (nullable = true)\n",
      " |-- id: string (nullable = true)\n",
      " |-- keywords: string (nullable = true)\n",
      " |-- original_language: string (nullable = true)\n",
      " |-- original_title: string (nullable = true)\n",
      " |-- overview: string (nullable = true)\n",
      " |-- popularity: string (nullable = true)\n",
      " |-- production_companies: string (nullable = true)\n",
      " |-- production_countries: string (nullable = true)\n",
      " |-- release_date: string (nullable = true)\n",
      " |-- revenue: string (nullable = true)\n",
      " |-- runtime: string (nullable = true)\n",
      " |-- spoken_languages: string (nullable = true)\n",
      " |-- status: string (nullable = true)\n",
      " |-- tagline: string (nullable = true)\n",
      " |-- title: string (nullable = true)\n",
      " |-- vote_average: string (nullable = true)\n",
      " |-- vote_count: string (nullable = true)\n",
      "\n",
      "+---------+-------------+--------------------+------------+--------------------+-----------------+--------------------+--------------------+--------------------+--------------------+--------------------+---------------+--------------------+--------------+--------------------+--------------+--------------------+---------------+--------------------+----------------+\n",
      "|   budget|       genres|            homepage|          id|            keywords|original_language|      original_title|            overview|          popularity|production_companies|production_countries|   release_date|             revenue|       runtime|    spoken_languages|        status|             tagline|          title|        vote_average|      vote_count|\n",
      "+---------+-------------+--------------------+------------+--------------------+-----------------+--------------------+--------------------+--------------------+--------------------+--------------------+---------------+--------------------+--------------+--------------------+--------------+--------------------+---------------+--------------------+----------------+\n",
      "|237000000|\"[{\"\"id\"\": 28| \"\"name\"\": \"\"Acti...| {\"\"id\"\": 12| \"\"name\"\": \"\"Adve...|      {\"\"id\"\": 14| \"\"name\"\": \"\"Fant...|        {\"\"id\"\": 878| \"\"name\"\": \"\"Scie...|http://www.avatar...|               19995|\"[{\"\"id\"\": 1463| \"\"name\"\": \"\"cult...| {\"\"id\"\": 2964| \"\"name\"\": \"\"futu...| {\"\"id\"\": 3386| \"\"name\"\": \"\"spac...|  {\"\"id\"\": 3388| \"\"name\"\": \"\"spac...|   {\"\"id\"\": 3679|\n",
      "|300000000|\"[{\"\"id\"\": 12| \"\"name\"\": \"\"Adve...| {\"\"id\"\": 14| \"\"name\"\": \"\"Fant...|      {\"\"id\"\": 28| \"\"name\"\": \"\"Acti...|http://disney.go....|                 285|      \"[{\"\"id\"\": 270| \"\"name\"\": \"\"ocea...|   {\"\"id\"\": 726| \"\"name\"\": \"\"drug...|  {\"\"id\"\": 911| \"\"name\"\": \"\"exot...| {\"\"id\"\": 1319| \"\"name\"\": \"\"east...|  {\"\"id\"\": 2038| \"\"name\"\": \"\"love...|   {\"\"id\"\": 2052|\n",
      "|245000000|\"[{\"\"id\"\": 28| \"\"name\"\": \"\"Acti...| {\"\"id\"\": 12| \"\"name\"\": \"\"Adve...|      {\"\"id\"\": 80| \"\"name\"\": \"\"Crim...|http://www.sonypi...|              206647|      \"[{\"\"id\"\": 470|  \"\"name\"\": \"\"spy\"\"}|   {\"\"id\"\": 818| \"\"name\"\": \"\"base...| {\"\"id\"\": 4289| \"\"name\"\": \"\"secr...| {\"\"id\"\": 9663| \"\"name\"\": \"\"sequ...| {\"\"id\"\": 14555|  \"\"name\"\": \"\"mi6\"\"}| {\"\"id\"\": 156095|\n",
      "|250000000|\"[{\"\"id\"\": 28| \"\"name\"\": \"\"Acti...| {\"\"id\"\": 80| \"\"name\"\": \"\"Crim...|      {\"\"id\"\": 18| \"\"name\"\": \"\"Dram...|         {\"\"id\"\": 53| \"\"name\"\": \"\"Thri...|http://www.thedar...|               49026| \"[{\"\"id\"\": 849| \"\"name\"\": \"\"dc c...|  {\"\"id\"\": 853| \"\"name\"\": \"\"crim...|  {\"\"id\"\": 949| \"\"name\"\": \"\"terr...|  {\"\"id\"\": 1308| \"\"name\"\": \"\"secr...|   {\"\"id\"\": 1437|\n",
      "|260000000|\"[{\"\"id\"\": 28| \"\"name\"\": \"\"Acti...| {\"\"id\"\": 12| \"\"name\"\": \"\"Adve...|     {\"\"id\"\": 878| \"\"name\"\": \"\"Scie...|http://movies.dis...|               49529|      \"[{\"\"id\"\": 818| \"\"name\"\": \"\"base...|   {\"\"id\"\": 839| \"\"name\"\": \"\"mars\"\"}| {\"\"id\"\": 1456| \"\"name\"\": \"\"meda...| {\"\"id\"\": 3801| \"\"name\"\": \"\"spac...|  {\"\"id\"\": 7376| \"\"name\"\": \"\"prin...|   {\"\"id\"\": 9951|\n",
      "+---------+-------------+--------------------+------------+--------------------+-----------------+--------------------+--------------------+--------------------+--------------------+--------------------+---------------+--------------------+--------------+--------------------+--------------+--------------------+---------------+--------------------+----------------+\n",
      "only showing top 5 rows\n",
      "\n",
      "root\n",
      " |-- movie_id: integer (nullable = true)\n",
      " |-- title: string (nullable = true)\n",
      " |-- cast: string (nullable = true)\n",
      " |-- crew: string (nullable = true)\n",
      "\n",
      "+--------+--------------------+-------------------+--------------------+\n",
      "|movie_id|               title|               cast|                crew|\n",
      "+--------+--------------------+-------------------+--------------------+\n",
      "|   19995|              Avatar|\"[{\"\"cast_id\"\": 242| \"\"character\"\": \"...|\n",
      "|     285|Pirates of the Ca...|  \"[{\"\"cast_id\"\": 4| \"\"character\"\": \"...|\n",
      "|  206647|             Spectre|  \"[{\"\"cast_id\"\": 1| \"\"character\"\": \"...|\n",
      "|   49026|The Dark Knight R...|  \"[{\"\"cast_id\"\": 2| \"\"character\"\": \"...|\n",
      "|   49529|         John Carter|  \"[{\"\"cast_id\"\": 5| \"\"character\"\": \"...|\n",
      "+--------+--------------------+-------------------+--------------------+\n",
      "only showing top 5 rows\n",
      "\n"
     ]
    }
   ],
   "source": [
    "from pyspark.sql import SparkSession\n",
    "\n",
    "# Initialize Spark session\n",
    "spark = SparkSession.builder \\\n",
    "    .appName(\"TMDB Analysis\") \\\n",
    "    .getOrCreate()\n",
    "\n",
    "# Load the datasets\n",
    "movies_df = spark.read.csv(\"dataset/tmdb_5000_movies.csv\", header=True, inferSchema=True)\n",
    "credits_df = spark.read.csv(\"dataset/tmdb_5000_credits.csv\", header=True, inferSchema=True)\n",
    "\n",
    "# Show schema and initial rows\n",
    "movies_df.printSchema()\n",
    "movies_df.show(5)\n",
    "credits_df.printSchema()\n",
    "credits_df.show(5)\n"
   ]
  },
  {
   "cell_type": "markdown",
   "metadata": {},
   "source": [
    "Step 2: Merge Dataframes\n"
   ]
  },
  {
   "cell_type": "code",
   "execution_count": 9,
   "metadata": {},
   "outputs": [
    {
     "name": "stdout",
     "output_type": "stream",
     "text": [
      "root\n",
      " |-- budget: string (nullable = true)\n",
      " |-- genres: string (nullable = true)\n",
      " |-- homepage: string (nullable = true)\n",
      " |-- id: string (nullable = true)\n",
      " |-- keywords: string (nullable = true)\n",
      " |-- original_language: string (nullable = true)\n",
      " |-- original_title: string (nullable = true)\n",
      " |-- overview: string (nullable = true)\n",
      " |-- popularity: string (nullable = true)\n",
      " |-- production_companies: string (nullable = true)\n",
      " |-- production_countries: string (nullable = true)\n",
      " |-- release_date: string (nullable = true)\n",
      " |-- revenue: string (nullable = true)\n",
      " |-- runtime: string (nullable = true)\n",
      " |-- spoken_languages: string (nullable = true)\n",
      " |-- status: string (nullable = true)\n",
      " |-- tagline: string (nullable = true)\n",
      " |-- title: string (nullable = true)\n",
      " |-- vote_average: string (nullable = true)\n",
      " |-- vote_count: string (nullable = true)\n",
      " |-- title: string (nullable = true)\n",
      " |-- cast: string (nullable = true)\n",
      " |-- crew: string (nullable = true)\n",
      "\n",
      "+-------+------+--------+------+--------+-----------------+--------------------+--------------------+----------+--------------------+--------------------+--------------------+----------+-------+--------------------+--------------------+--------------------+--------------------+------------+----------+--------------------+-----------------+--------------------+\n",
      "| budget|genres|homepage|    id|keywords|original_language|      original_title|            overview|popularity|production_companies|production_countries|        release_date|   revenue|runtime|    spoken_languages|              status|             tagline|               title|vote_average|vote_count|               title|             cast|                crew|\n",
      "+-------+------+--------+------+--------+-----------------+--------------------+--------------------+----------+--------------------+--------------------+--------------------+----------+-------+--------------------+--------------------+--------------------+--------------------+------------+----------+--------------------+-----------------+--------------------+\n",
      "|      0|    []|    NULL|191229|      []|               en|              Iguana|A grotesquely dis...|  0.214704|                  []|                  []|          1988-04-01|         0|     88|\"[{\"\"iso_639_1\"\":...| \"\"name\"\": \"\"Engl...| {\"\"iso_639_1\"\": ...| \"\"name\"\": \"\"Espa...|    Released|      NULL|              Iguana|\"[{\"\"cast_id\"\": 6| \"\"character\"\": \"...|\n",
      "|      0|    []|    NULL|346081|      []|               en|           Sardaarji|A ghost hunter us...|  0.296981|                  []|\"[{\"\"iso_3166_1\"\"...| \"\"name\"\": \"\"Indi...|2015-06-26|      0|                   0|                  []|            Released|                NULL|   Sardaarji|       9.5|           Sardaarji|               []|\"[{\"\"credit_id\"\":...|\n",
      "|      0|    []|    NULL|371085|      []|               en|           Sharkskin|The Post War II s...|  0.027801|                  []|                  []|          2015-01-01|         0|      0|                  []|            Released|                NULL|           Sharkskin|         0.0|         0|           Sharkskin|               []|                  []|\n",
      "|2000000|    []|    NULL| 48382|      []|               en|The Book of Mormo...|The story of Lehi...|  0.031947|                  []|                  []|          2003-09-12|   1672730|    120|                  []|            Released|2600 years ago, o...|The Book of Mormo...|         5.0|         2|The Book of Mormo...|\"[{\"\"cast_id\"\": 1| \"\"character\"\": \"...|\n",
      "|      0|    []|    NULL|325140|      []|               en|Hum To Mohabbat K...|Raju, a waiter, i...|  0.001186|                  []|                  []|          2000-05-26|         0|      0|                  []|            Released|                NULL|Hum To Mohabbat K...|         0.0|         0|Hum To Mohabbat K...|               []|                  []|\n",
      "+-------+------+--------+------+--------+-----------------+--------------------+--------------------+----------+--------------------+--------------------+--------------------+----------+-------+--------------------+--------------------+--------------------+--------------------+------------+----------+--------------------+-----------------+--------------------+\n",
      "only showing top 5 rows\n",
      "\n"
     ]
    }
   ],
   "source": [
    "# Merge datasets on the movie ID\n",
    "df = movies_df.join(credits_df, movies_df.id == credits_df.movie_id, 'inner').drop(credits_df.movie_id)\n",
    "\n",
    "# Show merged dataframe\n",
    "df.printSchema()\n",
    "df.show(5)\n",
    "\n",
    "# Save the initial merged dataframe to CSV\n",
    "df.toPandas().to_csv('data/merged_data.csv', index=False)\n"
   ]
  },
  {
   "cell_type": "markdown",
   "metadata": {},
   "source": [
    "Step 3: Data Cleaning and Preprocessing\n"
   ]
  },
  {
   "cell_type": "code",
   "execution_count": 10,
   "metadata": {},
   "outputs": [],
   "source": [
    "from pyspark.sql.functions import col\n",
    "\n",
    "# Convert necessary columns to appropriate data types\n",
    "df = df.withColumn(\"budget\", col(\"budget\").cast(\"float\")) \\\n",
    "       .withColumn(\"revenue\", col(\"revenue\").cast(\"float\")) \\\n",
    "       .withColumn(\"runtime\", col(\"runtime\").cast(\"float\")) \\\n",
    "       .withColumn(\"popularity\", col(\"popularity\").cast(\"float\"))\n",
    "\n",
    "# Handle missing values\n",
    "df = df.dropna(subset=['budget', 'revenue', 'runtime', 'popularity'])\n",
    "\n",
    "# Save cleaned data to CSV\n",
    "df.toPandas().to_csv('data/cleaned_data.csv', index=False)\n"
   ]
  },
  {
   "cell_type": "markdown",
   "metadata": {},
   "source": [
    "Step 4: Feature Engineering and Data Transformation\n"
   ]
  },
  {
   "cell_type": "code",
   "execution_count": 11,
   "metadata": {},
   "outputs": [
    {
     "name": "stdout",
     "output_type": "stream",
     "text": [
      "+--------------------+---------+\n",
      "|            features|  revenue|\n",
      "+--------------------+---------+\n",
      "|[0.0,0.2147040069...|      0.0|\n",
      "|(4,[1],[0.0278009...|      0.0|\n",
      "|[2000000.0,0.0319...|1672730.0|\n",
      "|(4,[1],[0.0011859...|      0.0|\n",
      "|[0.0,0.6900889873...|      0.0|\n",
      "+--------------------+---------+\n",
      "only showing top 5 rows\n",
      "\n"
     ]
    }
   ],
   "source": [
    "from pyspark.sql.functions import split, explode\n",
    "from pyspark.ml.feature import StringIndexer, VectorAssembler\n",
    "\n",
    "# Extract relevant features from JSON columns\n",
    "# Assuming genres, cast, crew are JSON strings, explode them for feature extraction\n",
    "# Simplifying by just taking the length of these lists as a feature\n",
    "df = df.withColumn(\"genres_count\", explode(split(col('genres'), \",\"))) \\\n",
    "       .withColumn(\"cast_count\", explode(split(col('cast'), \",\"))) \\\n",
    "       .withColumn(\"crew_count\", explode(split(col('crew'), \",\")))\n",
    "\n",
    "# Convert categorical columns to numerical values using StringIndexer\n",
    "indexer = StringIndexer(inputCol=\"original_language\", outputCol=\"original_language_index\")\n",
    "df = indexer.fit(df).transform(df)\n",
    "\n",
    "# Assemble features into a single vector column for machine learning models\n",
    "feature_columns = ['budget', 'popularity', 'runtime', 'original_language_index']\n",
    "assembler = VectorAssembler(inputCols=feature_columns, outputCol=\"features\")\n",
    "df = assembler.transform(df)\n",
    "\n",
    "# Show dataframe with features\n",
    "df.select(\"features\", \"revenue\").show(5)\n"
   ]
  },
  {
   "cell_type": "markdown",
   "metadata": {},
   "source": [
    "Step 5: Split Data into Training and Testing Sets\n"
   ]
  },
  {
   "cell_type": "code",
   "execution_count": 12,
   "metadata": {},
   "outputs": [],
   "source": [
    "# Split the data into training and testing sets\n",
    "train_df, test_df = df.randomSplit([0.8, 0.2], seed=42)\n",
    "\n",
    "# Save the split datasets to CSV\n",
    "train_df.toPandas().to_csv('data/train_data.csv', index=False)\n",
    "test_df.toPandas().to_csv('data/test_data.csv', index=False)\n"
   ]
  },
  {
   "cell_type": "markdown",
   "metadata": {},
   "source": [
    "Step 6: Regression Analysis to Predict Movie Revenue\n"
   ]
  },
  {
   "cell_type": "code",
   "execution_count": 14,
   "metadata": {},
   "outputs": [
    {
     "name": "stdout",
     "output_type": "stream",
     "text": [
      "Root Mean Squared Error (RMSE) on test data = 1358.61597177138\n"
     ]
    }
   ],
   "source": [
    "from pyspark.ml.regression import LinearRegression\n",
    "from pyspark.ml.evaluation import RegressionEvaluator\n",
    "\n",
    "# Implement a Linear Regression model to predict movie revenue\n",
    "lr = LinearRegression(featuresCol='features', labelCol='revenue')\n",
    "lr_model = lr.fit(train_df)\n",
    "lr_predictions = lr_model.transform(test_df)\n",
    "\n",
    "# Evaluate the Linear Regression model\n",
    "lr_evaluator = RegressionEvaluator(predictionCol='prediction', labelCol='revenue', metricName='rmse')\n",
    "rmse = lr_evaluator.evaluate(lr_predictions)\n",
    "\n",
    "print(f\"Root Mean Squared Error (RMSE) on test data = {rmse}\")\n",
    "\n",
    "# Save regression predictions to CSV\n",
    "lr_predictions.toPandas().to_csv('data/lr_predictions.csv', index=False)\n"
   ]
  },
  {
   "cell_type": "markdown",
   "metadata": {},
   "source": [
    "Step 7: Classification Analysis to Predict Movie Success\n"
   ]
  },
  {
   "cell_type": "code",
   "execution_count": 16,
   "metadata": {},
   "outputs": [
    {
     "name": "stdout",
     "output_type": "stream",
     "text": [
      "Accuracy on test data = 1.0\n"
     ]
    }
   ],
   "source": [
    "from pyspark.ml.classification import RandomForestClassifier\n",
    "from pyspark.ml.evaluation import MulticlassClassificationEvaluator\n",
    "\n",
    "# Create success category based on revenue\n",
    "df = df.withColumn('success', when(col('revenue') > 100000000, 1).otherwise(0))\n",
    "\n",
    "# Split the data again as we added a new column\n",
    "train_df, test_df = df.randomSplit([0.8, 0.2], seed=42)\n",
    "\n",
    "# Train a RandomForest Classifier\n",
    "rf = RandomForestClassifier(featuresCol='features', labelCol='success')\n",
    "rf_model = rf.fit(train_df)\n",
    "rf_predictions = rf_model.transform(test_df)\n",
    "\n",
    "# Evaluate the RandomForest Classifier model\n",
    "rf_evaluator = MulticlassClassificationEvaluator(predictionCol='prediction', labelCol='success', metricName='accuracy')\n",
    "accuracy = rf_evaluator.evaluate(rf_predictions)\n",
    "\n",
    "print(f\"Accuracy on test data = {accuracy}\")\n",
    "\n",
    "# Save classification predictions to CSV\n",
    "rf_predictions.toPandas().to_csv('data/rf_predictions.csv', index=False)\n"
   ]
  },
  {
   "cell_type": "markdown",
   "metadata": {},
   "source": [
    "Step 8: Export Final Processed Data for Visualization in Tableau\n"
   ]
  },
  {
   "cell_type": "code",
   "execution_count": 17,
   "metadata": {},
   "outputs": [],
   "source": [
    "# Save final dataframe to CSV for Tableau\n",
    "df.toPandas().to_csv('data/final_data_for_tableau.csv', index=False)\n",
    "\n",
    "# Stop the Spark session\n",
    "spark.stop()\n"
   ]
  }
 ],
 "metadata": {
  "kernelspec": {
   "display_name": "Python 3",
   "language": "python",
   "name": "python3"
  },
  "language_info": {
   "codemirror_mode": {
    "name": "ipython",
    "version": 3
   },
   "file_extension": ".py",
   "mimetype": "text/x-python",
   "name": "python",
   "nbconvert_exporter": "python",
   "pygments_lexer": "ipython3",
   "version": "3.12.1"
  }
 },
 "nbformat": 4,
 "nbformat_minor": 2
}
