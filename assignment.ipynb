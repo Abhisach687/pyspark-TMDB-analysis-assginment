{
 "cells": [
  {
   "cell_type": "markdown",
   "metadata": {},
   "source": [
    "Step 1: Setting Up the Environment\n"
   ]
  },
  {
   "cell_type": "code",
   "execution_count": 105,
   "metadata": {},
   "outputs": [
    {
     "name": "stdout",
     "output_type": "stream",
     "text": [
      "root\n",
      " |-- budget: string (nullable = true)\n",
      " |-- genres: string (nullable = true)\n",
      " |-- homepage: string (nullable = true)\n",
      " |-- id: string (nullable = true)\n",
      " |-- keywords: string (nullable = true)\n",
      " |-- original_language: string (nullable = true)\n",
      " |-- original_title: string (nullable = true)\n",
      " |-- overview: string (nullable = true)\n",
      " |-- popularity: string (nullable = true)\n",
      " |-- production_companies: string (nullable = true)\n",
      " |-- production_countries: string (nullable = true)\n",
      " |-- release_date: string (nullable = true)\n",
      " |-- revenue: string (nullable = true)\n",
      " |-- runtime: string (nullable = true)\n",
      " |-- spoken_languages: string (nullable = true)\n",
      " |-- status: string (nullable = true)\n",
      " |-- tagline: string (nullable = true)\n",
      " |-- title: string (nullable = true)\n",
      " |-- vote_average: string (nullable = true)\n",
      " |-- vote_count: string (nullable = true)\n",
      "\n"
     ]
    }
   ],
   "source": [
    "from pyspark.sql import SparkSession\n",
    "from pyspark.sql.functions import col, from_json, size\n",
    "from pyspark.sql.types import IntegerType, StringType, FloatType, StructType, StructField, ArrayType\n",
    "import pandas as pd\n",
    "\n",
    "# Initialize Spark Session\n",
    "spark = SparkSession.builder.appName(\"TMDB_Movie_Analysis\").getOrCreate()\n",
    "\n",
    "# Load the dataset\n",
    "df = spark.read.csv(\"dataset/tmdb_5000_movies.csv\", header=True, inferSchema=True)\n",
    "\n",
    "# Display the schema\n",
    "df.printSchema()"
   ]
  },
  {
   "cell_type": "markdown",
   "metadata": {},
   "source": [
    "Step 2: Exploratory Data Analysis (EDA)\n"
   ]
  },
  {
   "cell_type": "code",
   "execution_count": 106,
   "metadata": {},
   "outputs": [
    {
     "name": "stdout",
     "output_type": "stream",
     "text": [
      "+---------+-------------+--------------------+------------+--------------------+-----------------+--------------------+--------------------+--------------------+--------------------+--------------------+---------------+--------------------+--------------+--------------------+--------------+--------------------+---------------+--------------------+----------------+\n",
      "|   budget|       genres|            homepage|          id|            keywords|original_language|      original_title|            overview|          popularity|production_companies|production_countries|   release_date|             revenue|       runtime|    spoken_languages|        status|             tagline|          title|        vote_average|      vote_count|\n",
      "+---------+-------------+--------------------+------------+--------------------+-----------------+--------------------+--------------------+--------------------+--------------------+--------------------+---------------+--------------------+--------------+--------------------+--------------+--------------------+---------------+--------------------+----------------+\n",
      "|237000000|\"[{\"\"id\"\": 28| \"\"name\"\": \"\"Acti...| {\"\"id\"\": 12| \"\"name\"\": \"\"Adve...|      {\"\"id\"\": 14| \"\"name\"\": \"\"Fant...|        {\"\"id\"\": 878| \"\"name\"\": \"\"Scie...|http://www.avatar...|               19995|\"[{\"\"id\"\": 1463| \"\"name\"\": \"\"cult...| {\"\"id\"\": 2964| \"\"name\"\": \"\"futu...| {\"\"id\"\": 3386| \"\"name\"\": \"\"spac...|  {\"\"id\"\": 3388| \"\"name\"\": \"\"spac...|   {\"\"id\"\": 3679|\n",
      "|300000000|\"[{\"\"id\"\": 12| \"\"name\"\": \"\"Adve...| {\"\"id\"\": 14| \"\"name\"\": \"\"Fant...|      {\"\"id\"\": 28| \"\"name\"\": \"\"Acti...|http://disney.go....|                 285|      \"[{\"\"id\"\": 270| \"\"name\"\": \"\"ocea...|   {\"\"id\"\": 726| \"\"name\"\": \"\"drug...|  {\"\"id\"\": 911| \"\"name\"\": \"\"exot...| {\"\"id\"\": 1319| \"\"name\"\": \"\"east...|  {\"\"id\"\": 2038| \"\"name\"\": \"\"love...|   {\"\"id\"\": 2052|\n",
      "|245000000|\"[{\"\"id\"\": 28| \"\"name\"\": \"\"Acti...| {\"\"id\"\": 12| \"\"name\"\": \"\"Adve...|      {\"\"id\"\": 80| \"\"name\"\": \"\"Crim...|http://www.sonypi...|              206647|      \"[{\"\"id\"\": 470|  \"\"name\"\": \"\"spy\"\"}|   {\"\"id\"\": 818| \"\"name\"\": \"\"base...| {\"\"id\"\": 4289| \"\"name\"\": \"\"secr...| {\"\"id\"\": 9663| \"\"name\"\": \"\"sequ...| {\"\"id\"\": 14555|  \"\"name\"\": \"\"mi6\"\"}| {\"\"id\"\": 156095|\n",
      "|250000000|\"[{\"\"id\"\": 28| \"\"name\"\": \"\"Acti...| {\"\"id\"\": 80| \"\"name\"\": \"\"Crim...|      {\"\"id\"\": 18| \"\"name\"\": \"\"Dram...|         {\"\"id\"\": 53| \"\"name\"\": \"\"Thri...|http://www.thedar...|               49026| \"[{\"\"id\"\": 849| \"\"name\"\": \"\"dc c...|  {\"\"id\"\": 853| \"\"name\"\": \"\"crim...|  {\"\"id\"\": 949| \"\"name\"\": \"\"terr...|  {\"\"id\"\": 1308| \"\"name\"\": \"\"secr...|   {\"\"id\"\": 1437|\n",
      "|260000000|\"[{\"\"id\"\": 28| \"\"name\"\": \"\"Acti...| {\"\"id\"\": 12| \"\"name\"\": \"\"Adve...|     {\"\"id\"\": 878| \"\"name\"\": \"\"Scie...|http://movies.dis...|               49529|      \"[{\"\"id\"\": 818| \"\"name\"\": \"\"base...|   {\"\"id\"\": 839| \"\"name\"\": \"\"mars\"\"}| {\"\"id\"\": 1456| \"\"name\"\": \"\"meda...| {\"\"id\"\": 3801| \"\"name\"\": \"\"spac...|  {\"\"id\"\": 7376| \"\"name\"\": \"\"prin...|   {\"\"id\"\": 9951|\n",
      "+---------+-------------+--------------------+------------+--------------------+-----------------+--------------------+--------------------+--------------------+--------------------+--------------------+---------------+--------------------+--------------+--------------------+--------------+--------------------+---------------+--------------------+----------------+\n",
      "only showing top 5 rows\n",
      "\n",
      "+-------+--------------------+--------------------+--------------------+--------------------+--------------------+--------------------+-----------------+--------------------+--------------------+--------------------+--------------------+--------------------+------------------+-----------------+------------------+------------------+---------------------------+--------------------+--------------------+--------------------+\n",
      "|summary|              budget|              genres|            homepage|                  id|            keywords|   original_language|   original_title|            overview|          popularity|production_companies|production_countries|        release_date|           revenue|          runtime|  spoken_languages|            status|                    tagline|               title|        vote_average|          vote_count|\n",
      "+-------+--------------------+--------------------+--------------------+--------------------+--------------------+--------------------+-----------------+--------------------+--------------------+--------------------+--------------------+--------------------+------------------+-----------------+------------------+------------------+---------------------------+--------------------+--------------------+--------------------+\n",
      "|  count|                4806|                4806|                4783|                4193|                4806|                3845|             4806|                3880|                4805|                4381|                4806|                4685|              4806|             4786|              4805|              4801|                       4793|                4794|                4790|                4782|\n",
      "|   mean| 2.904503987528628E7|                NULL|                NULL|            257933.0|   75390.93256815411|                NULL|60655.81073825504|                NULL|   49231.04659471788|  3.0969152021276596|    34320.0673162791|   4.768344984732823|23077.104881667557|      5390.917685|10386.103605955226|1116190.4968455266|         1014255.8731825595|  2969856.0894444934|  1105015.8913976683|  2922807.8691073153|\n",
      "| stddev| 4.072239125855034E7|                NULL|                NULL|   95898.57464974052|  102305.67013342727|                NULL|89395.75119367782|                NULL|   81891.36353956886|   6.060575236299895|   66166.60404926521|   9.960502510946355|100040.08737781514|67452.74189580302|127340.40479037851| 5422683.495770553|        1.080559070174764E7|1.3527026438717993E7|1.0756357949255891E7|1.8610958459415328E7|\n",
      "|    min| As the main char...| Ralph (Adam Butc...| \"\"name\"\": \"\"Acti...| a waitress who e...| \"\"name\"\": \"\"Acti...| \"\"name\"\": \"\"wife...|  \"\"id\"\": 1950}]\"| \"\"name\"\": \"\"real...|     \"\"id\"\": 5682}]\"| \"\"name\"\": \"\"real...| \"\"Tales From the...| \"\"Tales From the...|                  |   \"\"id\"\": 10026}|    \"\"id\"\": 10221}|  \"\"id\"\": 10100}]\"|           \"\"id\"\": 10163}]\"|      \"\"id\"\": 10157}|      \"\"id\"\": 10046}|      \"\"id\"\": 10031}|\n",
      "|    max|            99000000|                  []|http://www.realit...|https://www.uphe....|                  []|https://www.uphe....|               ro|            逃出生天|“Majo” Tonorio, a...|          疯狂的石头|       친절한 금자씨|               放‧逐|        黃石的孩子|               zh|          非常幸运|        疯狂的赛车|좋은 놈, 나쁜 놈, 이상한 놈|“The Perfect Wave...|            一個好人|“Lies in Plain Si...|\n",
      "+-------+--------------------+--------------------+--------------------+--------------------+--------------------+--------------------+-----------------+--------------------+--------------------+--------------------+--------------------+--------------------+------------------+-----------------+------------------+------------------+---------------------------+--------------------+--------------------+--------------------+\n",
      "\n"
     ]
    }
   ],
   "source": [
    "# Show the first few rows\n",
    "df.show(5)\n",
    "\n",
    "# Summary statistics\n",
    "df.describe().show()\n",
    "\n",
    "# Handle missing values\n",
    "df = df.dropna()\n",
    "\n",
    "# Save the cleaned data for EDA\n",
    "df.toPandas().to_csv(\"data/eda_cleaned.csv\", index=False)"
   ]
  },
  {
   "cell_type": "markdown",
   "metadata": {},
   "source": [
    "Step 3: Feature Engineering and Data Transformation\n"
   ]
  },
  {
   "cell_type": "code",
   "execution_count": 107,
   "metadata": {},
   "outputs": [],
   "source": [
    "from pyspark.ml.feature import StringIndexer, VectorAssembler\n",
    "\n",
    "# Define schemas for nested JSON columns\n",
    "genres_schema = ArrayType(StructType([StructField(\"id\", IntegerType()), StructField(\"name\", StringType())]))\n",
    "keywords_schema = ArrayType(StructType([StructField(\"id\", IntegerType()), StructField(\"name\", StringType())]))\n",
    "\n",
    "# Parse JSON columns\n",
    "df = df.withColumn(\"genres_parsed\", from_json(col(\"genres\"), genres_schema))\n",
    "df = df.withColumn(\"keywords_parsed\", from_json(col(\"keywords\"), keywords_schema))\n",
    "\n",
    "# Extract relevant features by counting the number of elements in the arrays\n",
    "df = df.withColumn(\"num_genres\", size(col(\"genres_parsed\")))\n",
    "df = df.withColumn(\"num_keywords\", size(col(\"keywords_parsed\")))\n",
    "\n",
    "# Convert columns to appropriate data types\n",
    "df = df.withColumn(\"budget\", col(\"budget\").cast(IntegerType()))\n",
    "df = df.withColumn(\"popularity\", col(\"popularity\").cast(FloatType()))\n",
    "df = df.withColumn(\"runtime\", col(\"runtime\").cast(FloatType()))\n",
    "df = df.withColumn(\"vote_average\", col(\"vote_average\").cast(FloatType()))\n",
    "df = df.withColumn(\"vote_count\", col(\"vote_count\").cast(IntegerType()))\n",
    "df = df.withColumn(\"revenue\", col(\"revenue\").cast(IntegerType()))\n",
    "\n",
    "# Handle any remaining null values in numeric columns by filling them with 0\n",
    "numeric_columns = [\"budget\", \"popularity\", \"runtime\", \"vote_average\", \"vote_count\", \"revenue\"]\n",
    "for column in numeric_columns:\n",
    "    df = df.fillna({column: 0})\n",
    "\n",
    "# Check for any non-numeric values in numeric columns and remove or correct them\n",
    "for column in numeric_columns:\n",
    "    df = df.filter(col(column).cast(\"float\").isNotNull())\n",
    "\n",
    "# Convert categorical columns to numerical values\n",
    "indexer = StringIndexer(inputCol=\"original_language\", outputCol=\"original_language_index\")\n",
    "df = indexer.fit(df).transform(df)\n",
    "\n",
    "# Assemble features into a single vector column\n",
    "feature_cols = [\"budget\", \"num_genres\", \"num_keywords\", \"original_language_index\", \"popularity\", \"runtime\", \"vote_average\", \"vote_count\"]\n",
    "assembler = VectorAssembler(inputCols=feature_cols, outputCol=\"features\")\n",
    "df = assembler.transform(df)\n",
    "\n",
    "# Create a new column 'success' based on revenue thresholds\n",
    "df = df.withColumn(\"success\", (col(\"revenue\") > 10000000).cast(IntegerType()))\n",
    "\n",
    "# Split the data into training and testing sets\n",
    "train_df, test_df = df.randomSplit([0.8, 0.2], seed=42)\n",
    "\n",
    "# Save the transformed data for feature engineering\n",
    "df.toPandas().to_csv(\"data/feature_engineering.csv\", index=False)"
   ]
  },
  {
   "cell_type": "markdown",
   "metadata": {},
   "source": [
    "Step 4: Regression Analysis\n"
   ]
  },
  {
   "cell_type": "code",
   "execution_count": 110,
   "metadata": {},
   "outputs": [
    {
     "name": "stdout",
     "output_type": "stream",
     "text": [
      "+-------+-------------------+\n",
      "|revenue|         prediction|\n",
      "+-------+-------------------+\n",
      "|      0|-1682.8669106839493|\n",
      "|      0| 2555.0341053063316|\n",
      "|      0|-102.17071179368406|\n",
      "|      0| 1936.4742828885505|\n",
      "|      0| 224.86988108016374|\n",
      "|      0|-1825.9471700662584|\n",
      "|      0|  1741.063025291056|\n",
      "|      0|  294.8921739999329|\n",
      "|      0|  2282.500277911458|\n",
      "|      0|  2343.820389075305|\n",
      "|      0| 2459.6472657181257|\n",
      "|      0| 1444.4587586722223|\n",
      "|      0|  2104.906899329283|\n",
      "|      0| 2595.9141794155626|\n",
      "|      0| -1505.719922877282|\n",
      "|      0|  2286.959232283892|\n",
      "|      0| 2480.0863920871834|\n",
      "|      0|-1195.7743983685682|\n",
      "|      0|  2591.702123144962|\n",
      "|      0|-2015.8551352068844|\n",
      "+-------+-------------------+\n",
      "only showing top 20 rows\n",
      "\n",
      "Root Mean Squared Error (RMSE): 19535.48535990419\n"
     ]
    }
   ],
   "source": [
    "from pyspark.ml.regression import LinearRegression\n",
    "\n",
    "# Initialize the Linear Regression model\n",
    "lr = LinearRegression(featuresCol=\"features\", labelCol=\"revenue\")\n",
    "\n",
    "# Fit the model\n",
    "lr_model = lr.fit(train_df)\n",
    "\n",
    "# Predict on the test set\n",
    "test_results = lr_model.transform(test_df)\n",
    "\n",
    "# Evaluate the model\n",
    "test_results.select(\"revenue\", \"prediction\").show()\n",
    "rmse = lr_model.summary.rootMeanSquaredError\n",
    "print(f\"Root Mean Squared Error (RMSE): {rmse}\")\n",
    "\n",
    "# Save the regression results\n",
    "test_results.toPandas().to_csv(\"data/regression_results.csv\", index=False)"
   ]
  },
  {
   "cell_type": "markdown",
   "metadata": {},
   "source": [
    "Step 5: Classification Analysis\n"
   ]
  },
  {
   "cell_type": "code",
   "execution_count": 111,
   "metadata": {},
   "outputs": [
    {
     "name": "stdout",
     "output_type": "stream",
     "text": [
      "Accuracy: 1.0\n",
      "+-------+----------+-----------+\n",
      "|success|prediction|probability|\n",
      "+-------+----------+-----------+\n",
      "|      0|       0.0|      [1.0]|\n",
      "|      0|       0.0|      [1.0]|\n",
      "|      0|       0.0|      [1.0]|\n",
      "|      0|       0.0|      [1.0]|\n",
      "|      0|       0.0|      [1.0]|\n",
      "|      0|       0.0|      [1.0]|\n",
      "|      0|       0.0|      [1.0]|\n",
      "|      0|       0.0|      [1.0]|\n",
      "|      0|       0.0|      [1.0]|\n",
      "|      0|       0.0|      [1.0]|\n",
      "|      0|       0.0|      [1.0]|\n",
      "|      0|       0.0|      [1.0]|\n",
      "|      0|       0.0|      [1.0]|\n",
      "|      0|       0.0|      [1.0]|\n",
      "|      0|       0.0|      [1.0]|\n",
      "|      0|       0.0|      [1.0]|\n",
      "|      0|       0.0|      [1.0]|\n",
      "|      0|       0.0|      [1.0]|\n",
      "|      0|       0.0|      [1.0]|\n",
      "|      0|       0.0|      [1.0]|\n",
      "+-------+----------+-----------+\n",
      "only showing top 20 rows\n",
      "\n"
     ]
    }
   ],
   "source": [
    "from pyspark.ml.classification import RandomForestClassifier\n",
    "from pyspark.ml.evaluation import MulticlassClassificationEvaluator\n",
    "\n",
    "# Initialize the RandomForestClassifier with increased maxBins\n",
    "rf = RandomForestClassifier(featuresCol=\"features\", labelCol=\"success\", maxBins=800)\n",
    "\n",
    "# Fit the model\n",
    "rf_model = rf.fit(train_df)\n",
    "\n",
    "# Predict on the test set\n",
    "test_results = rf_model.transform(test_df)\n",
    "\n",
    "# Evaluate the model\n",
    "evaluator = MulticlassClassificationEvaluator(labelCol=\"success\", predictionCol=\"prediction\", metricName=\"accuracy\")\n",
    "accuracy = evaluator.evaluate(test_results)\n",
    "print(f\"Accuracy: {accuracy}\")\n",
    "\n",
    "# Save the classification results\n",
    "test_results.toPandas().to_csv(\"data/classification_results.csv\", index=False)\n",
    "\n",
    "# Show the classification results\n",
    "test_results.select(\"success\", \"prediction\", \"probability\").show()"
   ]
  }
 ],
 "metadata": {
  "language_info": {
   "name": "python"
  }
 },
 "nbformat": 4,
 "nbformat_minor": 2
}
